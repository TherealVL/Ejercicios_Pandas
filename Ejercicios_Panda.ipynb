{
  "cells": [
    {
      "cell_type": "code",
      "execution_count": 1,
      "metadata": {
        "datalore": {
          "sheet_delimiter": false,
          "type": "CODE"
        },
        "jupyter": {
          "outputs_hidden": false,
          "source_hidden": false
        }
      },
      "outputs": [
        {
          "ename": "ModuleNotFoundError",
          "evalue": "No module named 'pandas'",
          "output_type": "error",
          "traceback": [
            "\u001b[0;31m---------------------------------------------------------------------------\u001b[0m",
            "\u001b[0;31mModuleNotFoundError\u001b[0m                       Traceback (most recent call last)",
            "Input \u001b[0;32mIn [1]\u001b[0m, in \u001b[0;36m<module>\u001b[0;34m\u001b[0m\n\u001b[0;32m----> 1\u001b[0m \u001b[38;5;28;01mimport\u001b[39;00m \u001b[38;5;21;01mpandas\u001b[39;00m \u001b[38;5;28;01mas\u001b[39;00m \u001b[38;5;21;01mpd\u001b[39;00m\n\u001b[1;32m      2\u001b[0m pd\u001b[38;5;241m.\u001b[39m__version__\n",
            "\u001b[0;31mModuleNotFoundError\u001b[0m: No module named 'pandas'"
          ]
        }
      ],
      "source": [
        "import pandas as pd\n",
        "pd.__version__"
      ]
    },
    {
      "cell_type": "markdown",
      "metadata": {},
      "source": []
    },
    {
      "attachments": {},
      "cell_type": "markdown",
      "metadata": {
        "datalore": {
          "sheet_delimiter": false,
          "type": "MD"
        },
        "jupyter": {
          "outputs_hidden": false,
          "source_hidden": false
        }
      },
      "source": [
        "# EJERCIO 1 \n",
        "Crear y visualizar un arreglo unidimensional como una estructura de Series."
      ]
    },
    {
      "cell_type": "code",
      "execution_count": null,
      "metadata": {
        "datalore": {
          "sheet_delimiter": false,
          "type": "CODE"
        },
        "jupyter": {
          "outputs_hidden": false,
          "source_hidden": false
        }
      },
      "outputs": [],
      "source": [
        "datos = [1, 2, 4, 5, 11]\n",
        "serie = pd.Series(datos)"
      ]
    },
    {
      "cell_type": "code",
      "execution_count": null,
      "metadata": {
        "datalore": {
          "sheet_delimiter": false,
          "type": "CODE"
        },
        "jupyter": {
          "outputs_hidden": false,
          "source_hidden": false
        }
      },
      "outputs": [
        {
          "data": {
            "text/html": []
          },
          "metadata": {},
          "output_type": "display_data"
        }
      ],
      "source": [
        "serie"
      ]
    },
    {
      "cell_type": "code",
      "execution_count": null,
      "metadata": {
        "datalore": {
          "sheet_delimiter": false,
          "type": "CODE"
        },
        "jupyter": {
          "outputs_hidden": false,
          "source_hidden": false
        }
      },
      "outputs": [
        {
          "data": {
            "text/plain": [
              "5"
            ]
          },
          "metadata": {},
          "output_type": "display_data"
        }
      ],
      "source": [
        "serie.size"
      ]
    },
    {
      "cell_type": "code",
      "execution_count": null,
      "metadata": {
        "datalore": {
          "sheet_delimiter": false,
          "type": "CODE"
        },
        "jupyter": {
          "outputs_hidden": false,
          "source_hidden": false
        }
      },
      "outputs": [
        {
          "data": {
            "text/html": []
          },
          "metadata": {},
          "output_type": "display_data"
        }
      ],
      "source": [
        "serie.describe()"
      ]
    },
    {
      "attachments": {},
      "cell_type": "markdown",
      "metadata": {
        "datalore": {
          "sheet_delimiter": false,
          "type": "MD"
        },
        "jupyter": {
          "outputs_hidden": false,
          "source_hidden": false
        }
      },
      "source": [
        "# EJERCICIO 2\n",
        "Aplicar las operaciones artiméticas básicas sobre objetos series"
      ]
    },
    {
      "cell_type": "code",
      "execution_count": null,
      "metadata": {
        "datalore": {
          "sheet_delimiter": false,
          "type": "CODE"
        },
        "jupyter": {
          "outputs_hidden": false,
          "source_hidden": false
        }
      },
      "outputs": [],
      "source": [
        "serie1 = pd.Series([1, 2, 5, 8, 10, 15, 69])\n",
        "serie2 = pd.Series([1, 2.8, 6, 7, 13, 14, 68])"
      ]
    },
    {
      "cell_type": "code",
      "execution_count": null,
      "metadata": {
        "datalore": {
          "sheet_delimiter": false,
          "type": "CODE"
        },
        "jupyter": {
          "outputs_hidden": false,
          "source_hidden": false
        }
      },
      "outputs": [
        {
          "data": {
            "text/html": []
          },
          "metadata": {},
          "output_type": "display_data"
        }
      ],
      "source": [
        "serie1 + serie2"
      ]
    },
    {
      "cell_type": "code",
      "execution_count": null,
      "metadata": {
        "datalore": {
          "sheet_delimiter": false,
          "type": "CODE"
        },
        "jupyter": {
          "outputs_hidden": false,
          "source_hidden": false
        }
      },
      "outputs": [
        {
          "data": {
            "text/html": []
          },
          "metadata": {},
          "output_type": "display_data"
        }
      ],
      "source": [
        "serie1 - serie2"
      ]
    },
    {
      "cell_type": "code",
      "execution_count": null,
      "metadata": {
        "datalore": {
          "sheet_delimiter": false,
          "type": "CODE"
        },
        "jupyter": {
          "outputs_hidden": false,
          "source_hidden": false
        }
      },
      "outputs": [
        {
          "data": {
            "text/html": []
          },
          "metadata": {},
          "output_type": "display_data"
        }
      ],
      "source": [
        "serie1 * serie2"
      ]
    },
    {
      "cell_type": "code",
      "execution_count": null,
      "metadata": {
        "datalore": {
          "sheet_delimiter": false,
          "type": "CODE"
        },
        "jupyter": {
          "outputs_hidden": false,
          "source_hidden": false
        }
      },
      "outputs": [
        {
          "data": {
            "text/html": []
          },
          "metadata": {},
          "output_type": "display_data"
        }
      ],
      "source": [
        "serie1 / serie2"
      ]
    },
    {
      "cell_type": "markdown",
      "metadata": {},
      "source": [
        "#Ejericicio 3\n",
        "\n",
        "Convertir un diccionario python en un objeto series\n"
      ]
    },
    {
      "cell_type": "code",
      "execution_count": null,
      "metadata": {},
      "outputs": [],
      "source": [
        "datos3 = {'a':10, 'b':20, 'c':30, 'd':40}\n",
        "\n",
        "series3 = pd.Series(datos3)\n",
        "\n",
        "series3"
      ]
    },
    {
      "cell_type": "code",
      "execution_count": null,
      "metadata": {},
      "outputs": [],
      "source": [
        "series3['a']"
      ]
    },
    {
      "cell_type": "markdown",
      "metadata": {},
      "source": [
        "# Ejercicio 4\n",
        "Convertir un arreglo Numpy en un objeto Series"
      ]
    },
    {
      "cell_type": "code",
      "execution_count": null,
      "metadata": {},
      "outputs": [],
      "source": [
        "import numpy as np  "
      ]
    },
    {
      "cell_type": "code",
      "execution_count": null,
      "metadata": {},
      "outputs": [],
      "source": [
        "arreglo4 = np.array([2, 5, 6, 7, 10, 20, 36, 54])\n",
        "arreglo4"
      ]
    },
    {
      "cell_type": "code",
      "execution_count": null,
      "metadata": {},
      "outputs": [],
      "source": [
        "series4 = pd.Series(arreglo4)\n",
        "\n",
        "series4"
      ]
    },
    {
      "cell_type": "markdown",
      "metadata": {},
      "source": [
        "#Ejercicio 5\n",
        "Cambiar el tipo de datos de un objeto series.\n"
      ]
    },
    {
      "cell_type": "markdown",
      "metadata": {},
      "source": [
        "datos5 = pd.Series(['100', '200', 'python', '300.15', '500.3'])\n",
        "\n",
        "datos5"
      ]
    },
    {
      "cell_type": "code",
      "execution_count": null,
      "metadata": {},
      "outputs": [],
      "source": [
        "datos5 = pd.to_numeric(datos5, errors='coerce')\n",
        "\n",
        "datos5  "
      ]
    },
    {
      "cell_type": "markdown",
      "metadata": {},
      "source": [
        "# Ejercicio 6   \n",
        "Obtener una columna de un objeto dataframe como un objeto series\n"
      ]
    },
    {
      "cell_type": "code",
      "execution_count": null,
      "metadata": {},
      "outputs": [],
      "source": [
        "datos6 = {'A': [1, 2, 3, 4, 5], 'B':[1, 2, 3, 4, 5], 'C':[1, 2, 3, 4, 5]}\n",
        "\n",
        "df6 = pd.DataFrame(data=datos6)\n",
        "\n",
        "df6\n"
      ]
    },
    {
      "cell_type": "code",
      "execution_count": null,
      "metadata": {},
      "outputs": [],
      "source": [
        "columna6 = df6.loc[:,1]\n",
        "\n",
        "columna6"
      ]
    },
    {
      "cell_type": "markdown",
      "metadata": {},
      "source": [
        "#Ejercicio 7\n",
        "\n",
        "Extraer una fila de un dataframe como un objeto series\n"
      ]
    },
    {
      "cell_type": "code",
      "execution_count": null,
      "metadata": {},
      "outputs": [],
      "source": [
        "datos7 = { 'A':[2, 3, 5, 5, 6], 'B':[2, 3, 4, 5, 6,7], 'C':[4, 6, 7, 8, 9,]}\n",
        "\n",
        "datos7"
      ]
    },
    {
      "cell_type": "code",
      "execution_count": null,
      "metadata": {},
      "outputs": [],
      "source": [
        "df7 = pd.DataFrame(data=datos7)\n",
        "\n",
        "df7"
      ]
    },
    {
      "cell_type": "code",
      "execution_count": null,
      "metadata": {},
      "outputs": [],
      "source": [
        "fila7 = df7.iloc[2:]\n",
        "\n",
        "fila7"
      ]
    },
    {
      "cell_type": "markdown",
      "metadata": {},
      "source": [
        "#Ejericio 10\n",
        "Extraer una fila de un dataframe como un objeto series "
      ]
    },
    {
      "cell_type": "code",
      "execution_count": null,
      "metadata": {},
      "outputs": [],
      "source": [
        "datos10 = {'A':[1, 3, 3, 4, 4], 'B': [3, 5, 6, 7, 8], 'C':[10, 20, 23, 54, 74]}\n",
        "\n",
        "datos10"
      ]
    },
    {
      "cell_type": "code",
      "execution_count": null,
      "metadata": {},
      "outputs": [],
      "source": [
        "df10 = pd.DataFrame(datos10)\n",
        "\n",
        "df10"
      ]
    },
    {
      "cell_type": "code",
      "execution_count": null,
      "metadata": {},
      "outputs": [],
      "source": [
        "fila10 = df10.iloc[2,:]\n",
        "\n",
        "fila10"
      ]
    },
    {
      "cell_type": "markdown",
      "metadata": {},
      "source": [
        "# Ejercicio 11\n",
        "Convertir un objeto series con multiples listas en un unico  objeto serie"
      ]
    },
    {
      "cell_type": "code",
      "execution_count": null,
      "metadata": {},
      "outputs": [],
      "source": [
        "datos11 = [['mexico','peru', 'colombia'], ['españa', 'alemania', 'francia'], ['rusia']]\n",
        "\n",
        "serie11 = pd.Series(datos11)\n",
        "\n",
        "serie11"
      ]
    },
    {
      "cell_type": "markdown",
      "metadata": {},
      "source": [
        "#  Ejercicio 12\n",
        "Ordenar los valores de un objeto series con el metodo sort_values"
      ]
    },
    {
      "cell_type": "code",
      "execution_count": null,
      "metadata": {},
      "outputs": [],
      "source": [
        "datos12 = ['1.2', 'python', 'pandas', '1.888']\n",
        "\n",
        "series12 = pd.Series(datos12)\n",
        "\n",
        "series12"
      ]
    },
    {
      "cell_type": "code",
      "execution_count": null,
      "metadata": {},
      "outputs": [],
      "source": [
        "series12_1 = pd.Series(series12).sort_values()\n",
        "\n",
        "series12_1"
      ]
    },
    {
      "cell_type": "code",
      "execution_count": null,
      "metadata": {},
      "outputs": [],
      "source": [
        "Ejercicio 13 \n",
        "agregar mas datos a un objeto series "
      ]
    },
    {
      "cell_type": "code",
      "execution_count": null,
      "metadata": {},
      "outputs": [],
      "source": [
        "datos13 = ['1.2', 'python', 'pandas', '1.888']\n",
        "\n",
        "series13 = pd.Series(datos13)\n",
        "\n",
        "series13"
      ]
    },
    {
      "cell_type": "code",
      "execution_count": null,
      "metadata": {},
      "outputs": [],
      "source": [
        "series13_1 = series13.append(pd.Series(['121','java']))\n",
        "\n",
        "series13_1"
      ]
    },
    {
      "cell_type": "markdown",
      "metadata": {},
      "source": [
        "Ejercicio 14      \n",
        "Crear un objeto series a partir de un filtro aplicado a otro objeto series"
      ]
    },
    {
      "cell_type": "code",
      "execution_count": null,
      "metadata": {},
      "outputs": [],
      "source": [
        "datos14 = [1, 2, 3, 4, 5, 6, 7, 8, 10]\n",
        "\n",
        "series14 = pd.Series(datos14)\n",
        "\n",
        "series14"
      ]
    },
    {
      "cell_type": "code",
      "execution_count": null,
      "metadata": {},
      "outputs": [],
      "source": [
        "serie_nueva14 = series14[series14 < 6]\n",
        "\n",
        "serie_nueva14"
      ]
    },
    {
      "cell_type": "markdown",
      "metadata": {},
      "source": [
        "EJERCICIO 15\n",
        "Cambiar el orden de los indices de un objeto series\n"
      ]
    },
    {
      "cell_type": "code",
      "execution_count": null,
      "metadata": {},
      "outputs": [],
      "source": [
        "datos15 = [1, 2, 3, 4,5]\n",
        "\n",
        "indice15 = ['a','b', 'c', 'd', 'e']"
      ]
    },
    {
      "cell_type": "code",
      "execution_count": null,
      "metadata": {},
      "outputs": [],
      "source": [
        "series15 = pd.Series(data=datos15, index=indice15) \n",
        "\n",
        "series15"
      ]
    },
    {
      "cell_type": "code",
      "execution_count": null,
      "metadata": {},
      "outputs": [],
      "source": [
        "serie15_1 = series15.reindex(index=['A','B', 'C', 'D', 'E'])\n",
        "\n",
        "serie15_1"
      ]
    },
    {
      "cell_type": "markdown",
      "metadata": {},
      "source": [
        "Ejercicio 16\n",
        "Calcular la desviación estandar y el promedio de un objeto series "
      ]
    },
    {
      "cell_type": "code",
      "execution_count": null,
      "metadata": {},
      "outputs": [],
      "source": [
        "datos16 = [1, 6, 8, 14, 15, 16, 17, 25, 29]\n",
        "\n",
        "series16 = pd.Series(datos16)\n",
        "\n",
        "series16"
      ]
    },
    {
      "cell_type": "code",
      "execution_count": null,
      "metadata": {},
      "outputs": [],
      "source": [
        "series16.std()"
      ]
    },
    {
      "cell_type": "code",
      "execution_count": null,
      "metadata": {},
      "outputs": [],
      "source": [
        "series16.mean()"
      ]
    },
    {
      "cell_type": "markdown",
      "metadata": {},
      "source": [
        "# Ejercicio 17\n",
        "Calcular los valores minimo y maximo de un objeto serie "
      ]
    },
    {
      "cell_type": "code",
      "execution_count": null,
      "metadata": {},
      "outputs": [],
      "source": [
        "series16.min()"
      ]
    },
    {
      "cell_type": "code",
      "execution_count": null,
      "metadata": {},
      "outputs": [],
      "source": [
        "series16.max()"
      ]
    },
    {
      "cell_type": "markdown",
      "metadata": {},
      "source": [
        "# Ejercicio 18\n",
        "Obtener estadísticas básicas de un objeto series con describe "
      ]
    },
    {
      "cell_type": "code",
      "execution_count": null,
      "metadata": {},
      "outputs": [],
      "source": [
        "series16.describe()"
      ]
    },
    {
      "cell_type": "markdown",
      "metadata": {},
      "source": [
        "Ejercicio 19\n",
        "Obtener los elementos pares e impares de un objeto series numérico "
      ]
    },
    {
      "cell_type": "code",
      "execution_count": null,
      "metadata": {},
      "outputs": [],
      "source": [
        "datos19 = list(range(100))\n",
        "\n",
        "datos19"
      ]
    },
    {
      "cell_type": "code",
      "execution_count": null,
      "metadata": {},
      "outputs": [],
      "source": [
        "series19 = pd.Series(datos19)\n",
        "\n",
        "series19"
      ]
    },
    {
      "cell_type": "code",
      "execution_count": null,
      "metadata": {},
      "outputs": [],
      "source": [
        "pares =series19[series19 % 2 == 0]\n",
        "\n",
        "pares"
      ]
    },
    {
      "cell_type": "markdown",
      "metadata": {},
      "source": [
        "Ejercicio 20\n",
        "Extraer los datos de un objeto series como un objeto numoy"
      ]
    },
    {
      "cell_type": "code",
      "execution_count": null,
      "metadata": {},
      "outputs": [],
      "source": [
        "datos20 = list(range(20))\n",
        "\n",
        "datos20"
      ]
    },
    {
      "cell_type": "code",
      "execution_count": null,
      "metadata": {},
      "outputs": [],
      "source": [
        "datos20 = list(range(20))\n",
        "\n",
        "datos20"
      ]
    },
    {
      "cell_type": "markdown",
      "metadata": {},
      "source": []
    },
    {
      "cell_type": "code",
      "execution_count": null,
      "metadata": {},
      "outputs": [],
      "source": [
        "rreglo = series20.values\n",
        "\n",
        "arreglo"
      ]
    },
    {
      "cell_type": "markdown",
      "metadata": {},
      "source": [
        "Ejercicio 21"
      ]
    },
    {
      "cell_type": "code",
      "execution_count": null,
      "metadata": {},
      "outputs": [],
      "source": [
        "datos21 = ['python','has', 'sus', 50, 'jassd']\n",
        "\n",
        "series21 = pd.Series(datos21)\n",
        "\n",
        "series21"
      ]
    },
    {
      "cell_type": "code",
      "execution_count": null,
      "metadata": {},
      "outputs": [],
      "source": [
        "series21 =pd.to_numeric(series21, errors='coerce')\n",
        "\n",
        "series21"
      ]
    },
    {
      "cell_type": "code",
      "execution_count": null,
      "metadata": {},
      "outputs": [],
      "source": [
        "series21.hasnans"
      ]
    },
    {
      "cell_type": "markdown",
      "metadata": {},
      "source": [
        "\n",
        "# Ejercicio 22\n",
        "Obtener el tamaño en bytes de los elementos de un objeto series "
      ]
    },
    {
      "cell_type": "code",
      "execution_count": null,
      "metadata": {},
      "outputs": [],
      "source": [
        "datos22 =list(range(15))\n",
        "\n",
        "datos22"
      ]
    },
    {
      "cell_type": "code",
      "execution_count": null,
      "metadata": {},
      "outputs": [],
      "source": [
        "series22 = pd.Series(datos22)\n",
        "\n",
        "series22"
      ]
    },
    {
      "cell_type": "code",
      "execution_count": null,
      "metadata": {},
      "outputs": [],
      "source": [
        "series22.nbytes"
      ]
    },
    {
      "cell_type": "markdown",
      "metadata": {},
      "source": [
        "#  Ejercicio 23\n",
        "Usar los métodos add, subtract, multiply y divide de la clase series"
      ]
    },
    {
      "cell_type": "code",
      "execution_count": null,
      "metadata": {},
      "outputs": [],
      "source": [
        "series23 = pd.Series(list(range(1,11)))\n",
        "\n",
        "series23"
      ]
    },
    {
      "cell_type": "code",
      "execution_count": null,
      "metadata": {},
      "outputs": [],
      "source": [
        "series23_1 = pd.Series(list(range(10,0,-1)))\n",
        "\n",
        "series23_1"
      ]
    },
    {
      "cell_type": "code",
      "execution_count": null,
      "metadata": {},
      "outputs": [],
      "source": [
        "series23.add(series23_1)"
      ]
    },
    {
      "cell_type": "code",
      "execution_count": null,
      "metadata": {},
      "outputs": [],
      "source": [
        "series23.subtract(series23_1)\n"
      ]
    },
    {
      "cell_type": "code",
      "execution_count": null,
      "metadata": {},
      "outputs": [],
      "source": [
        "series23.multiply(series23_1)"
      ]
    },
    {
      "cell_type": "code",
      "execution_count": null,
      "metadata": {},
      "outputs": [],
      "source": [
        "series23.divide(series23_1)"
      ]
    },
    {
      "cell_type": "markdown",
      "metadata": {},
      "source": [
        "# Ejercicio 24 \n",
        "\n",
        "Eliminar los valores NaN de una serie con el método dropna "
      ]
    },
    {
      "cell_type": "code",
      "execution_count": null,
      "metadata": {},
      "outputs": [],
      "source": [
        "datos24 = list(range(10))\n",
        "\n",
        "datos24"
      ]
    },
    {
      "cell_type": "code",
      "execution_count": null,
      "metadata": {},
      "outputs": [],
      "source": [
        "datos24_1 = ['python', 'jAVA', 'PHP', np.nan]\n",
        "\n",
        "datos24_1"
      ]
    },
    {
      "cell_type": "code",
      "execution_count": null,
      "metadata": {},
      "outputs": [],
      "source": [
        "series24 = datos24 + datos24_1\n",
        "\n",
        "series24"
      ]
    },
    {
      "cell_type": "code",
      "execution_count": null,
      "metadata": {},
      "outputs": [],
      "source": [
        "series24_2 = pd.Series(series24)\n",
        "\n",
        "series24_2"
      ]
    },
    {
      "cell_type": "code",
      "execution_count": null,
      "metadata": {},
      "outputs": [],
      "source": [
        "eries24_2 = pd.to_numeric(series24_2, errors='coerce')  \n",
        "\n",
        "series24_2"
      ]
    },
    {
      "cell_type": "code",
      "execution_count": null,
      "metadata": {},
      "outputs": [],
      "source": [
        "series24_2 = series24_2.dropna()\n",
        "\n",
        "series24_2"
      ]
    },
    {
      "cell_type": "markdown",
      "metadata": {},
      "source": [
        "# Ejericicio 25\n",
        "Calcular el valor absoluto de los elementos de un objeto series "
      ]
    },
    {
      "cell_type": "code",
      "execution_count": null,
      "metadata": {},
      "outputs": [],
      "source": [
        "datos25 = [-1,-5,-45,-57]\n",
        "\n",
        "series25 = pd.Series(datos25)\n"
      ]
    },
    {
      "cell_type": "code",
      "execution_count": null,
      "metadata": {},
      "outputs": [],
      "source": [
        "series25.abs()"
      ]
    },
    {
      "cell_type": "markdown",
      "metadata": {},
      "source": [
        "# Ejericcio 26\n",
        "Usar la funcion agg de un objeto series"
      ]
    },
    {
      "cell_type": "code",
      "execution_count": null,
      "metadata": {},
      "outputs": [],
      "source": [
        "series25.agg(min)"
      ]
    },
    {
      "cell_type": "code",
      "execution_count": null,
      "metadata": {},
      "outputs": [],
      "source": [
        "series25.agg(abs)"
      ]
    },
    {
      "cell_type": "code",
      "execution_count": null,
      "metadata": {},
      "outputs": [],
      "source": [
        "series25.agg(abs).agg(hex)"
      ]
    },
    {
      "cell_type": "code",
      "execution_count": null,
      "metadata": {},
      "outputs": [],
      "source": [
        "series25.agg(sum)"
      ]
    },
    {
      "cell_type": "markdown",
      "metadata": {},
      "source": [
        "# Ejericicio 27 \n",
        "Reemplazar los valores NaN de una serie con un valor arbitrario "
      ]
    },
    {
      "cell_type": "code",
      "execution_count": null,
      "metadata": {},
      "outputs": [],
      "source": [
        "Datos25 = ['PYTHON', 'R', 'Luis', 1, 58, 74, np.nan,'JOSE', 87, 'NOO']\n",
        "\n",
        "series25 = pd.Series(datos25)\n",
        "\n",
        "series25"
      ]
    },
    {
      "cell_type": "code",
      "execution_count": null,
      "metadata": {},
      "outputs": [],
      "source": [
        "series25 = pd.to_numeric(series25, errors='coerce')"
      ]
    },
    {
      "cell_type": "code",
      "execution_count": null,
      "metadata": {},
      "outputs": [],
      "source": [
        "series25.fillna(0, inplace=True)\n",
        "\n",
        "series25 "
      ]
    },
    {
      "cell_type": "markdown",
      "metadata": {},
      "source": [
        "# Ejericicio 29\n",
        "Obtener los primeros y últimos de un objeto series"
      ]
    },
    {
      "cell_type": "code",
      "execution_count": null,
      "metadata": {},
      "outputs": [],
      "source": [
        "datos29 = list(range(1, 100))\n",
        "\n",
        "series29 = pd.Series(datos29)\n",
        "\n",
        "series29"
      ]
    },
    {
      "cell_type": "code",
      "execution_count": null,
      "metadata": {},
      "outputs": [],
      "source": [
        "series29.head(10)"
      ]
    },
    {
      "cell_type": "code",
      "execution_count": null,
      "metadata": {},
      "outputs": [],
      "source": [
        "series29.tail(10)"
      ]
    },
    {
      "cell_type": "markdown",
      "metadata": {},
      "source": [
        "# Ejercicio 30\n",
        "Usar la función where de la clase series"
      ]
    },
    {
      "cell_type": "code",
      "execution_count": null,
      "metadata": {},
      "outputs": [],
      "source": [
        "datos30 = list(range(1,11))\n",
        "\n",
        "series30 = pd.Series(datos30)"
      ]
    },
    {
      "cell_type": "code",
      "execution_count": null,
      "metadata": {},
      "outputs": [],
      "source": [
        "series30.where(series30 > 5)"
      ]
    },
    {
      "cell_type": "code",
      "execution_count": null,
      "metadata": {},
      "outputs": [],
      "source": [
        "series30.where(series30 <5, \"VL\")"
      ]
    },
    {
      "cell_type": "markdown",
      "metadata": {},
      "source": [
        "# Ejercicio 31\n",
        "\n",
        "Remover de una serie los elementos que no cumplen una condición"
      ]
    },
    {
      "cell_type": "code",
      "execution_count": null,
      "metadata": {},
      "outputs": [],
      "source": [
        "datos31 = list(range(1, 88, 2))\n",
        "\n",
        "series31 = pd.Series(datos31)\n",
        "\n",
        "series31"
      ]
    },
    {
      "cell_type": "code",
      "execution_count": null,
      "metadata": {},
      "outputs": [],
      "source": [
        "series31.where(series31 >= 35)\n"
      ]
    },
    {
      "cell_type": "code",
      "execution_count": null,
      "metadata": {},
      "outputs": [],
      "source": [
        "series31.where(series31 >= 35).dropna()\n"
      ]
    },
    {
      "cell_type": "markdown",
      "metadata": {},
      "source": [
        "# Ejericico 32\n",
        "Contar los valores repetidos en una serie con value_count"
      ]
    },
    {
      "cell_type": "code",
      "execution_count": null,
      "metadata": {},
      "outputs": [],
      "source": [
        "Datos32 =  list(range(1, 100, 5))\n",
        "\n",
        "series32 = pd.Series(Datos32)\n",
        "\n",
        "series32"
      ]
    },
    {
      "cell_type": "code",
      "execution_count": null,
      "metadata": {},
      "outputs": [],
      "source": [
        "series32.value_counts()"
      ]
    }
  ],
  "metadata": {
    "datalore": {
      "base_environment": "default",
      "computation_mode": "JUPYTER",
      "package_manager": "pip",
      "packages": [
        {
          "name": "Ejercicios_Pandas",
          "source": "GIT",
          "url": "https://github.com/TherealVL/Ejercicios_Pandas@main",
          "version": "main"
        }
      ],
      "version": 1
    },
    "interpreter": {
      "hash": "d2152fd7f0bbc62aa1baff8c990435d1e2c7175d001561303988032604c11a48"
    },
    "kernelspec": {
      "display_name": "Python 3.10.2 64-bit",
      "language": "python",
      "name": "python3"
    },
    "language_info": {
      "codemirror_mode": {
        "name": "ipython",
        "version": 3
      },
      "file_extension": ".py",
      "mimetype": "text/x-python",
      "name": "python",
      "nbconvert_exporter": "python",
      "pygments_lexer": "ipython3",
      "version": "3.10.2"
    }
  },
  "nbformat": 4,
  "nbformat_minor": 4
}
