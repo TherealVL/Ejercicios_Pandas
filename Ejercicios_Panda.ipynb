{
  "cells": [
    {
      "cell_type": "code",
      "execution_count": 1,
      "metadata": {
        "datalore": {
          "sheet_delimiter": false,
          "type": "CODE"
        },
        "jupyter": {
          "outputs_hidden": false,
          "source_hidden": false
        }
      },
      "outputs": [],
      "source": [
        "import pandas as pd\n",
        "pd.__version__\n",
        "import numpy as np"
      ]
    },
    {
      "cell_type": "markdown",
      "metadata": {},
      "source": []
    },
    {
      "attachments": {},
      "cell_type": "markdown",
      "metadata": {
        "datalore": {
          "sheet_delimiter": false,
          "type": "MD"
        },
        "jupyter": {
          "outputs_hidden": false,
          "source_hidden": false
        }
      },
      "source": [
        "# EJERCIO 1 \n",
        "Crear y visualizar un arreglo unidimensional como una estructura de Series."
      ]
    },
    {
      "cell_type": "code",
      "execution_count": null,
      "metadata": {
        "datalore": {
          "sheet_delimiter": false,
          "type": "CODE"
        },
        "jupyter": {
          "outputs_hidden": false,
          "source_hidden": false
        }
      },
      "outputs": [],
      "source": [
        "datos = [1, 2, 4, 5, 11]\n",
        "serie = pd.Series(datos)"
      ]
    },
    {
      "cell_type": "code",
      "execution_count": null,
      "metadata": {
        "datalore": {
          "sheet_delimiter": false,
          "type": "CODE"
        },
        "jupyter": {
          "outputs_hidden": false,
          "source_hidden": false
        }
      },
      "outputs": [
        {
          "data": {
            "text/html": []
          },
          "metadata": {},
          "output_type": "display_data"
        }
      ],
      "source": [
        "serie"
      ]
    },
    {
      "cell_type": "code",
      "execution_count": null,
      "metadata": {
        "datalore": {
          "sheet_delimiter": false,
          "type": "CODE"
        },
        "jupyter": {
          "outputs_hidden": false,
          "source_hidden": false
        }
      },
      "outputs": [
        {
          "data": {
            "text/plain": [
              "5"
            ]
          },
          "metadata": {},
          "output_type": "display_data"
        }
      ],
      "source": [
        "serie.size"
      ]
    },
    {
      "cell_type": "code",
      "execution_count": null,
      "metadata": {
        "datalore": {
          "sheet_delimiter": false,
          "type": "CODE"
        },
        "jupyter": {
          "outputs_hidden": false,
          "source_hidden": false
        }
      },
      "outputs": [
        {
          "data": {
            "text/html": []
          },
          "metadata": {},
          "output_type": "display_data"
        }
      ],
      "source": [
        "serie.describe()"
      ]
    },
    {
      "attachments": {},
      "cell_type": "markdown",
      "metadata": {
        "datalore": {
          "sheet_delimiter": false,
          "type": "MD"
        },
        "jupyter": {
          "outputs_hidden": false,
          "source_hidden": false
        }
      },
      "source": [
        "# EJERCICIO 2\n",
        "Aplicar las operaciones artiméticas básicas sobre objetos series"
      ]
    },
    {
      "cell_type": "code",
      "execution_count": null,
      "metadata": {
        "datalore": {
          "sheet_delimiter": false,
          "type": "CODE"
        },
        "jupyter": {
          "outputs_hidden": false,
          "source_hidden": false
        }
      },
      "outputs": [],
      "source": [
        "serie1 = pd.Series([1, 2, 5, 8, 10, 15, 69])\n",
        "serie2 = pd.Series([1, 2.8, 6, 7, 13, 14, 68])"
      ]
    },
    {
      "cell_type": "code",
      "execution_count": null,
      "metadata": {
        "datalore": {
          "sheet_delimiter": false,
          "type": "CODE"
        },
        "jupyter": {
          "outputs_hidden": false,
          "source_hidden": false
        }
      },
      "outputs": [
        {
          "data": {
            "text/html": []
          },
          "metadata": {},
          "output_type": "display_data"
        }
      ],
      "source": [
        "serie1 + serie2"
      ]
    },
    {
      "cell_type": "code",
      "execution_count": null,
      "metadata": {
        "datalore": {
          "sheet_delimiter": false,
          "type": "CODE"
        },
        "jupyter": {
          "outputs_hidden": false,
          "source_hidden": false
        }
      },
      "outputs": [
        {
          "data": {
            "text/html": []
          },
          "metadata": {},
          "output_type": "display_data"
        }
      ],
      "source": [
        "serie1 - serie2"
      ]
    },
    {
      "cell_type": "code",
      "execution_count": null,
      "metadata": {
        "datalore": {
          "sheet_delimiter": false,
          "type": "CODE"
        },
        "jupyter": {
          "outputs_hidden": false,
          "source_hidden": false
        }
      },
      "outputs": [
        {
          "data": {
            "text/html": []
          },
          "metadata": {},
          "output_type": "display_data"
        }
      ],
      "source": [
        "serie1 * serie2"
      ]
    },
    {
      "cell_type": "code",
      "execution_count": null,
      "metadata": {
        "datalore": {
          "sheet_delimiter": false,
          "type": "CODE"
        },
        "jupyter": {
          "outputs_hidden": false,
          "source_hidden": false
        }
      },
      "outputs": [
        {
          "data": {
            "text/html": []
          },
          "metadata": {},
          "output_type": "display_data"
        }
      ],
      "source": [
        "serie1 / serie2"
      ]
    },
    {
      "cell_type": "markdown",
      "metadata": {},
      "source": [
        "#Ejericicio 3\n",
        "\n",
        "Convertir un diccionario python en un objeto series\n"
      ]
    },
    {
      "cell_type": "code",
      "execution_count": null,
      "metadata": {},
      "outputs": [],
      "source": [
        "datos3 = {'a':10, 'b':20, 'c':30, 'd':40}\n",
        "\n",
        "series3 = pd.Series(datos3)\n",
        "\n",
        "series3"
      ]
    },
    {
      "cell_type": "code",
      "execution_count": null,
      "metadata": {},
      "outputs": [],
      "source": [
        "series3['a']"
      ]
    },
    {
      "cell_type": "markdown",
      "metadata": {},
      "source": [
        "# Ejercicio 4\n",
        "Convertir un arreglo Numpy en un objeto Series"
      ]
    },
    {
      "cell_type": "code",
      "execution_count": null,
      "metadata": {},
      "outputs": [],
      "source": [
        "import numpy as np  "
      ]
    },
    {
      "cell_type": "code",
      "execution_count": null,
      "metadata": {},
      "outputs": [],
      "source": [
        "arreglo4 = np.array([2, 5, 6, 7, 10, 20, 36, 54])\n",
        "arreglo4"
      ]
    },
    {
      "cell_type": "code",
      "execution_count": null,
      "metadata": {},
      "outputs": [],
      "source": [
        "series4 = pd.Series(arreglo4)\n",
        "\n",
        "series4"
      ]
    },
    {
      "cell_type": "markdown",
      "metadata": {},
      "source": [
        "#Ejercicio 5\n",
        "Cambiar el tipo de datos de un objeto series.\n"
      ]
    },
    {
      "cell_type": "markdown",
      "metadata": {},
      "source": [
        "datos5 = pd.Series(['100', '200', 'python', '300.15', '500.3'])\n",
        "\n",
        "datos5"
      ]
    },
    {
      "cell_type": "code",
      "execution_count": null,
      "metadata": {},
      "outputs": [],
      "source": [
        "datos5 = pd.to_numeric(datos5, errors='coerce')\n",
        "\n",
        "datos5  "
      ]
    },
    {
      "cell_type": "markdown",
      "metadata": {},
      "source": [
        "# Ejercicio 6   \n",
        "Obtener una columna de un objeto dataframe como un objeto series\n"
      ]
    },
    {
      "cell_type": "code",
      "execution_count": null,
      "metadata": {},
      "outputs": [],
      "source": [
        "datos6 = {'A': [1, 2, 3, 4, 5], 'B':[1, 2, 3, 4, 5], 'C':[1, 2, 3, 4, 5]}\n",
        "\n",
        "df6 = pd.DataFrame(data=datos6)\n",
        "\n",
        "df6\n"
      ]
    },
    {
      "cell_type": "code",
      "execution_count": null,
      "metadata": {},
      "outputs": [],
      "source": [
        "columna6 = df6.loc[:,1]\n",
        "\n",
        "columna6"
      ]
    },
    {
      "cell_type": "markdown",
      "metadata": {},
      "source": [
        "#Ejercicio 7\n",
        "\n",
        "Extraer una fila de un dataframe como un objeto series\n"
      ]
    },
    {
      "cell_type": "code",
      "execution_count": null,
      "metadata": {},
      "outputs": [],
      "source": [
        "datos7 = { 'A':[2, 3, 5, 5, 6], 'B':[2, 3, 4, 5, 6,7], 'C':[4, 6, 7, 8, 9,]}\n",
        "\n",
        "datos7"
      ]
    },
    {
      "cell_type": "code",
      "execution_count": null,
      "metadata": {},
      "outputs": [],
      "source": [
        "df7 = pd.DataFrame(data=datos7)\n",
        "\n",
        "df7"
      ]
    },
    {
      "cell_type": "code",
      "execution_count": null,
      "metadata": {},
      "outputs": [],
      "source": [
        "fila7 = df7.iloc[2:]\n",
        "\n",
        "fila7"
      ]
    },
    {
      "cell_type": "markdown",
      "metadata": {},
      "source": [
        "#Ejericio 10\n",
        "Extraer una fila de un dataframe como un objeto series "
      ]
    },
    {
      "cell_type": "code",
      "execution_count": null,
      "metadata": {},
      "outputs": [],
      "source": [
        "datos10 = {'A':[1, 3, 3, 4, 4], 'B': [3, 5, 6, 7, 8], 'C':[10, 20, 23, 54, 74]}\n",
        "\n",
        "datos10"
      ]
    },
    {
      "cell_type": "code",
      "execution_count": null,
      "metadata": {},
      "outputs": [],
      "source": [
        "df10 = pd.DataFrame(datos10)\n",
        "\n",
        "df10"
      ]
    },
    {
      "cell_type": "code",
      "execution_count": null,
      "metadata": {},
      "outputs": [],
      "source": [
        "fila10 = df10.iloc[2,:]\n",
        "\n",
        "fila10"
      ]
    },
    {
      "cell_type": "markdown",
      "metadata": {},
      "source": [
        "# Ejercicio 11\n",
        "Convertir un objeto series con multiples listas en un unico  objeto serie"
      ]
    },
    {
      "cell_type": "code",
      "execution_count": null,
      "metadata": {},
      "outputs": [],
      "source": [
        "datos11 = [['mexico','peru', 'colombia'], ['españa', 'alemania', 'francia'], ['rusia']]\n",
        "\n",
        "serie11 = pd.Series(datos11)\n",
        "\n",
        "serie11"
      ]
    },
    {
      "cell_type": "markdown",
      "metadata": {},
      "source": [
        "#  Ejercicio 12\n",
        "Ordenar los valores de un objeto series con el metodo sort_values"
      ]
    },
    {
      "cell_type": "code",
      "execution_count": null,
      "metadata": {},
      "outputs": [],
      "source": [
        "datos12 = ['1.2', 'python', 'pandas', '1.888']\n",
        "\n",
        "series12 = pd.Series(datos12)\n",
        "\n",
        "series12"
      ]
    },
    {
      "cell_type": "code",
      "execution_count": null,
      "metadata": {},
      "outputs": [],
      "source": [
        "series12_1 = pd.Series(series12).sort_values()\n",
        "\n",
        "series12_1"
      ]
    },
    {
      "cell_type": "code",
      "execution_count": null,
      "metadata": {},
      "outputs": [],
      "source": [
        "Ejercicio 13 \n",
        "agregar mas datos a un objeto series "
      ]
    },
    {
      "cell_type": "code",
      "execution_count": null,
      "metadata": {},
      "outputs": [],
      "source": [
        "datos13 = ['1.2', 'python', 'pandas', '1.888']\n",
        "\n",
        "series13 = pd.Series(datos13)\n",
        "\n",
        "series13"
      ]
    },
    {
      "cell_type": "code",
      "execution_count": null,
      "metadata": {},
      "outputs": [],
      "source": [
        "series13_1 = series13.append(pd.Series(['121','java']))\n",
        "\n",
        "series13_1"
      ]
    },
    {
      "cell_type": "markdown",
      "metadata": {},
      "source": [
        "Ejercicio 14      \n",
        "Crear un objeto series a partir de un filtro aplicado a otro objeto series"
      ]
    },
    {
      "cell_type": "code",
      "execution_count": null,
      "metadata": {},
      "outputs": [],
      "source": [
        "datos14 = [1, 2, 3, 4, 5, 6, 7, 8, 10]\n",
        "\n",
        "series14 = pd.Series(datos14)\n",
        "\n",
        "series14"
      ]
    },
    {
      "cell_type": "code",
      "execution_count": null,
      "metadata": {},
      "outputs": [],
      "source": [
        "serie_nueva14 = series14[series14 < 6]\n",
        "\n",
        "serie_nueva14"
      ]
    },
    {
      "cell_type": "markdown",
      "metadata": {},
      "source": [
        "EJERCICIO 15\n",
        "Cambiar el orden de los indices de un objeto series\n"
      ]
    },
    {
      "cell_type": "code",
      "execution_count": null,
      "metadata": {},
      "outputs": [],
      "source": [
        "datos15 = [1, 2, 3, 4,5]\n",
        "\n",
        "indice15 = ['a','b', 'c', 'd', 'e']"
      ]
    },
    {
      "cell_type": "code",
      "execution_count": null,
      "metadata": {},
      "outputs": [],
      "source": [
        "series15 = pd.Series(data=datos15, index=indice15) \n",
        "\n",
        "series15"
      ]
    },
    {
      "cell_type": "code",
      "execution_count": null,
      "metadata": {},
      "outputs": [],
      "source": [
        "serie15_1 = series15.reindex(index=['A','B', 'C', 'D', 'E'])\n",
        "\n",
        "serie15_1"
      ]
    },
    {
      "cell_type": "markdown",
      "metadata": {},
      "source": [
        "Ejercicio 16\n",
        "Calcular la desviación estandar y el promedio de un objeto series "
      ]
    },
    {
      "cell_type": "code",
      "execution_count": null,
      "metadata": {},
      "outputs": [],
      "source": [
        "datos16 = [1, 6, 8, 14, 15, 16, 17, 25, 29]\n",
        "\n",
        "series16 = pd.Series(datos16)\n",
        "\n",
        "series16"
      ]
    },
    {
      "cell_type": "code",
      "execution_count": null,
      "metadata": {},
      "outputs": [],
      "source": [
        "series16.std()"
      ]
    },
    {
      "cell_type": "code",
      "execution_count": null,
      "metadata": {},
      "outputs": [],
      "source": [
        "series16.mean()"
      ]
    },
    {
      "cell_type": "markdown",
      "metadata": {},
      "source": [
        "# Ejercicio 17\n",
        "Calcular los valores minimo y maximo de un objeto serie "
      ]
    },
    {
      "cell_type": "code",
      "execution_count": null,
      "metadata": {},
      "outputs": [],
      "source": [
        "series16.min()"
      ]
    },
    {
      "cell_type": "code",
      "execution_count": null,
      "metadata": {},
      "outputs": [],
      "source": [
        "series16.max()"
      ]
    },
    {
      "cell_type": "markdown",
      "metadata": {},
      "source": [
        "# Ejercicio 18\n",
        "Obtener estadísticas básicas de un objeto series con describe "
      ]
    },
    {
      "cell_type": "code",
      "execution_count": null,
      "metadata": {},
      "outputs": [],
      "source": [
        "series16.describe()"
      ]
    },
    {
      "cell_type": "markdown",
      "metadata": {},
      "source": [
        "Ejercicio 19\n",
        "Obtener los elementos pares e impares de un objeto series numérico "
      ]
    },
    {
      "cell_type": "code",
      "execution_count": null,
      "metadata": {},
      "outputs": [],
      "source": [
        "datos19 = list(range(100))\n",
        "\n",
        "datos19"
      ]
    },
    {
      "cell_type": "code",
      "execution_count": null,
      "metadata": {},
      "outputs": [],
      "source": [
        "series19 = pd.Series(datos19)\n",
        "\n",
        "series19"
      ]
    },
    {
      "cell_type": "code",
      "execution_count": null,
      "metadata": {},
      "outputs": [],
      "source": [
        "pares =series19[series19 % 2 == 0]\n",
        "\n",
        "pares"
      ]
    },
    {
      "cell_type": "markdown",
      "metadata": {},
      "source": [
        "Ejercicio 20\n",
        "Extraer los datos de un objeto series como un objeto numoy"
      ]
    },
    {
      "cell_type": "code",
      "execution_count": null,
      "metadata": {},
      "outputs": [],
      "source": [
        "datos20 = list(range(20))\n",
        "\n",
        "datos20"
      ]
    },
    {
      "cell_type": "code",
      "execution_count": null,
      "metadata": {},
      "outputs": [],
      "source": [
        "datos20 = list(range(20))\n",
        "\n",
        "datos20"
      ]
    },
    {
      "cell_type": "markdown",
      "metadata": {},
      "source": []
    },
    {
      "cell_type": "code",
      "execution_count": null,
      "metadata": {},
      "outputs": [],
      "source": [
        "rreglo = series20.values\n",
        "\n",
        "arreglo"
      ]
    },
    {
      "cell_type": "markdown",
      "metadata": {},
      "source": [
        "Ejercicio 21"
      ]
    },
    {
      "cell_type": "code",
      "execution_count": null,
      "metadata": {},
      "outputs": [],
      "source": [
        "datos21 = ['python','has', 'sus', 50, 'jassd']\n",
        "\n",
        "series21 = pd.Series(datos21)\n",
        "\n",
        "series21"
      ]
    },
    {
      "cell_type": "code",
      "execution_count": null,
      "metadata": {},
      "outputs": [],
      "source": [
        "series21 =pd.to_numeric(series21, errors='coerce')\n",
        "\n",
        "series21"
      ]
    },
    {
      "cell_type": "code",
      "execution_count": null,
      "metadata": {},
      "outputs": [],
      "source": [
        "series21.hasnans"
      ]
    },
    {
      "cell_type": "markdown",
      "metadata": {},
      "source": [
        "\n",
        "# Ejercicio 22\n",
        "Obtener el tamaño en bytes de los elementos de un objeto series "
      ]
    },
    {
      "cell_type": "code",
      "execution_count": null,
      "metadata": {},
      "outputs": [],
      "source": [
        "datos22 =list(range(15))\n",
        "\n",
        "datos22"
      ]
    },
    {
      "cell_type": "code",
      "execution_count": null,
      "metadata": {},
      "outputs": [],
      "source": [
        "series22 = pd.Series(datos22)\n",
        "\n",
        "series22"
      ]
    },
    {
      "cell_type": "code",
      "execution_count": null,
      "metadata": {},
      "outputs": [],
      "source": [
        "series22.nbytes"
      ]
    },
    {
      "cell_type": "markdown",
      "metadata": {},
      "source": [
        "#  Ejercicio 23\n",
        "Usar los métodos add, subtract, multiply y divide de la clase series"
      ]
    },
    {
      "cell_type": "code",
      "execution_count": null,
      "metadata": {},
      "outputs": [],
      "source": [
        "series23 = pd.Series(list(range(1,11)))\n",
        "\n",
        "series23"
      ]
    },
    {
      "cell_type": "code",
      "execution_count": null,
      "metadata": {},
      "outputs": [],
      "source": [
        "series23_1 = pd.Series(list(range(10,0,-1)))\n",
        "\n",
        "series23_1"
      ]
    },
    {
      "cell_type": "code",
      "execution_count": null,
      "metadata": {},
      "outputs": [],
      "source": [
        "series23.add(series23_1)"
      ]
    },
    {
      "cell_type": "code",
      "execution_count": null,
      "metadata": {},
      "outputs": [],
      "source": [
        "series23.subtract(series23_1)\n"
      ]
    },
    {
      "cell_type": "code",
      "execution_count": null,
      "metadata": {},
      "outputs": [],
      "source": [
        "series23.multiply(series23_1)"
      ]
    },
    {
      "cell_type": "code",
      "execution_count": null,
      "metadata": {},
      "outputs": [],
      "source": [
        "series23.divide(series23_1)"
      ]
    },
    {
      "cell_type": "markdown",
      "metadata": {},
      "source": [
        "# Ejercicio 24 \n",
        "\n",
        "Eliminar los valores NaN de una serie con el método dropna "
      ]
    },
    {
      "cell_type": "code",
      "execution_count": null,
      "metadata": {},
      "outputs": [],
      "source": [
        "datos24 = list(range(10))\n",
        "\n",
        "datos24"
      ]
    },
    {
      "cell_type": "code",
      "execution_count": null,
      "metadata": {},
      "outputs": [],
      "source": [
        "datos24_1 = ['python', 'jAVA', 'PHP', np.nan]\n",
        "\n",
        "datos24_1"
      ]
    },
    {
      "cell_type": "code",
      "execution_count": null,
      "metadata": {},
      "outputs": [],
      "source": [
        "series24 = datos24 + datos24_1\n",
        "\n",
        "series24"
      ]
    },
    {
      "cell_type": "code",
      "execution_count": null,
      "metadata": {},
      "outputs": [],
      "source": [
        "series24_2 = pd.Series(series24)\n",
        "\n",
        "series24_2"
      ]
    },
    {
      "cell_type": "code",
      "execution_count": null,
      "metadata": {},
      "outputs": [],
      "source": [
        "eries24_2 = pd.to_numeric(series24_2, errors='coerce')  \n",
        "\n",
        "series24_2"
      ]
    },
    {
      "cell_type": "code",
      "execution_count": null,
      "metadata": {},
      "outputs": [],
      "source": [
        "series24_2 = series24_2.dropna()\n",
        "\n",
        "series24_2"
      ]
    },
    {
      "cell_type": "markdown",
      "metadata": {},
      "source": [
        "# Ejericicio 25\n",
        "Calcular el valor absoluto de los elementos de un objeto series "
      ]
    },
    {
      "cell_type": "code",
      "execution_count": null,
      "metadata": {},
      "outputs": [],
      "source": [
        "datos25 = [-1,-5,-45,-57]\n",
        "\n",
        "series25 = pd.Series(datos25)\n"
      ]
    },
    {
      "cell_type": "code",
      "execution_count": null,
      "metadata": {},
      "outputs": [],
      "source": [
        "series25.abs()"
      ]
    },
    {
      "cell_type": "markdown",
      "metadata": {},
      "source": [
        "# Ejericcio 26\n",
        "Usar la funcion agg de un objeto series"
      ]
    },
    {
      "cell_type": "code",
      "execution_count": null,
      "metadata": {},
      "outputs": [],
      "source": [
        "series25.agg(min)"
      ]
    },
    {
      "cell_type": "code",
      "execution_count": null,
      "metadata": {},
      "outputs": [],
      "source": [
        "series25.agg(abs)"
      ]
    },
    {
      "cell_type": "code",
      "execution_count": null,
      "metadata": {},
      "outputs": [],
      "source": [
        "series25.agg(abs).agg(hex)"
      ]
    },
    {
      "cell_type": "code",
      "execution_count": null,
      "metadata": {},
      "outputs": [],
      "source": [
        "series25.agg(sum)"
      ]
    },
    {
      "cell_type": "markdown",
      "metadata": {},
      "source": [
        "# Ejericicio 27 \n",
        "Reemplazar los valores NaN de una serie con un valor arbitrario "
      ]
    },
    {
      "cell_type": "code",
      "execution_count": null,
      "metadata": {},
      "outputs": [],
      "source": [
        "Datos25 = ['PYTHON', 'R', 'Luis', 1, 58, 74, np.nan,'JOSE', 87, 'NOO']\n",
        "\n",
        "series25 = pd.Series(datos25)\n",
        "\n",
        "series25"
      ]
    },
    {
      "cell_type": "code",
      "execution_count": null,
      "metadata": {},
      "outputs": [],
      "source": [
        "series25 = pd.to_numeric(series25, errors='coerce')"
      ]
    },
    {
      "cell_type": "code",
      "execution_count": null,
      "metadata": {},
      "outputs": [],
      "source": [
        "series25.fillna(0, inplace=True)\n",
        "\n",
        "series25 "
      ]
    },
    {
      "cell_type": "markdown",
      "metadata": {},
      "source": [
        "# Ejericicio 29\n",
        "Obtener los primeros y últimos de un objeto series"
      ]
    },
    {
      "cell_type": "code",
      "execution_count": null,
      "metadata": {},
      "outputs": [],
      "source": [
        "datos29 = list(range(1, 100))\n",
        "\n",
        "series29 = pd.Series(datos29)\n",
        "\n",
        "series29"
      ]
    },
    {
      "cell_type": "code",
      "execution_count": null,
      "metadata": {},
      "outputs": [],
      "source": [
        "series29.head(10)"
      ]
    },
    {
      "cell_type": "code",
      "execution_count": null,
      "metadata": {},
      "outputs": [],
      "source": [
        "series29.tail(10)"
      ]
    },
    {
      "cell_type": "markdown",
      "metadata": {},
      "source": [
        "# Ejercicio 30\n",
        "Usar la función where de la clase series"
      ]
    },
    {
      "cell_type": "code",
      "execution_count": null,
      "metadata": {},
      "outputs": [],
      "source": [
        "datos30 = list(range(1,11))\n",
        "\n",
        "series30 = pd.Series(datos30)"
      ]
    },
    {
      "cell_type": "code",
      "execution_count": null,
      "metadata": {},
      "outputs": [],
      "source": [
        "series30.where(series30 > 5)"
      ]
    },
    {
      "cell_type": "code",
      "execution_count": null,
      "metadata": {},
      "outputs": [],
      "source": [
        "series30.where(series30 <5, \"VL\")"
      ]
    },
    {
      "cell_type": "markdown",
      "metadata": {},
      "source": [
        "# Ejercicio 31\n",
        "\n",
        "Remover de una serie los elementos que no cumplen una condición"
      ]
    },
    {
      "cell_type": "code",
      "execution_count": null,
      "metadata": {},
      "outputs": [],
      "source": [
        "datos31 = list(range(1, 88, 2))\n",
        "\n",
        "series31 = pd.Series(datos31)\n",
        "\n",
        "series31"
      ]
    },
    {
      "cell_type": "code",
      "execution_count": null,
      "metadata": {},
      "outputs": [],
      "source": [
        "series31.where(series31 >= 35)\n"
      ]
    },
    {
      "cell_type": "code",
      "execution_count": null,
      "metadata": {},
      "outputs": [],
      "source": [
        "series31.where(series31 >= 35).dropna()\n"
      ]
    },
    {
      "cell_type": "markdown",
      "metadata": {},
      "source": [
        "# Ejericico 32\n",
        "Contar los valores repetidos en una serie con value_count"
      ]
    },
    {
      "cell_type": "code",
      "execution_count": null,
      "metadata": {},
      "outputs": [],
      "source": [
        "Datos32 =  list(range(1, 100, 5))\n",
        "\n",
        "series32 = pd.Series(Datos32)\n",
        "\n",
        "series32"
      ]
    },
    {
      "cell_type": "code",
      "execution_count": null,
      "metadata": {},
      "outputs": [],
      "source": [
        "series32.value_counts()"
      ]
    },
    {
      "cell_type": "markdown",
      "metadata": {},
      "source": [
        "# Ejericicio 33\n",
        "Generar la representación JSON de un objeto series"
      ]
    },
    {
      "cell_type": "code",
      "execution_count": null,
      "metadata": {},
      "outputs": [],
      "source": [
        "series33 = pd.Series([1, 2, 3, 4, 5, 6, 7])\n",
        "\n",
        "series33"
      ]
    },
    {
      "cell_type": "code",
      "execution_count": null,
      "metadata": {},
      "outputs": [],
      "source": [
        "series33.to_json"
      ]
    },
    {
      "cell_type": "markdown",
      "metadata": {},
      "source": [
        "# Ejercicio 34\n",
        "Obtener la representación de diccionario de un objeto series "
      ]
    },
    {
      "cell_type": "code",
      "execution_count": null,
      "metadata": {},
      "outputs": [],
      "source": [
        "capitales = ['lima', 'moscu', 'cdmx', 'madrid']\n",
        "\n",
        "paises = ['peru', 'rusia', 'mexico', ' espana']\n",
        "\n",
        "\n",
        "series34 = pd.Series(capitales, index=paises)\n",
        "\n",
        "series34"
      ]
    },
    {
      "cell_type": "code",
      "execution_count": null,
      "metadata": {},
      "outputs": [],
      "source": [
        "series34.to_dict()"
      ]
    },
    {
      "cell_type": "markdown",
      "metadata": {},
      "source": [
        "# Ejercicio 35\n",
        "Crear un objeto DF a partir de un objeto series"
      ]
    },
    {
      "cell_type": "code",
      "execution_count": 3,
      "metadata": {},
      "outputs": [
        {
          "data": {
            "text/plain": [
              "0     2\n",
              "1     5\n",
              "2     4\n",
              "3     7\n",
              "4     8\n",
              "5     9\n",
              "6     6\n",
              "7    10\n",
              "dtype: int64"
            ]
          },
          "execution_count": 3,
          "metadata": {},
          "output_type": "execute_result"
        }
      ],
      "source": [
        "datos35 = [2,5,4,7,8,9,6,10]\n",
        "\n",
        "serie35 = pd.Series(datos35)\n",
        "serie35"
      ]
    },
    {
      "cell_type": "code",
      "execution_count": 5,
      "metadata": {},
      "outputs": [
        {
          "data": {
            "text/html": [
              "<div><div id=03a79197-5b3a-4c55-9927-7875e7e9f215 style=\"display:none; background-color:#9D6CFF; color:white; width:200px; height:30px; padding-left:5px; border-radius:4px; flex-direction:row; justify-content:space-around; align-items:center;\" onmouseover=\"this.style.backgroundColor='#BA9BF8'\" onmouseout=\"this.style.backgroundColor='#9D6CFF'\" onclick=\"window.commands?.execute('create-mitosheet-from-dataframe-output');\">See Full Dataframe in Mito</div> <script> if (window.commands.hasCommand('create-mitosheet-from-dataframe-output')) document.getElementById('03a79197-5b3a-4c55-9927-7875e7e9f215').style.display = 'flex' </script> <table border=\"1\" class=\"dataframe\">\n",
              "  <thead>\n",
              "    <tr style=\"text-align: right;\">\n",
              "      <th></th>\n",
              "      <th>0</th>\n",
              "    </tr>\n",
              "  </thead>\n",
              "  <tbody>\n",
              "    <tr>\n",
              "      <th>0</th>\n",
              "      <td>2</td>\n",
              "    </tr>\n",
              "    <tr>\n",
              "      <th>1</th>\n",
              "      <td>5</td>\n",
              "    </tr>\n",
              "    <tr>\n",
              "      <th>2</th>\n",
              "      <td>4</td>\n",
              "    </tr>\n",
              "    <tr>\n",
              "      <th>3</th>\n",
              "      <td>7</td>\n",
              "    </tr>\n",
              "    <tr>\n",
              "      <th>4</th>\n",
              "      <td>8</td>\n",
              "    </tr>\n",
              "    <tr>\n",
              "      <th>5</th>\n",
              "      <td>9</td>\n",
              "    </tr>\n",
              "    <tr>\n",
              "      <th>6</th>\n",
              "      <td>6</td>\n",
              "    </tr>\n",
              "    <tr>\n",
              "      <th>7</th>\n",
              "      <td>10</td>\n",
              "    </tr>\n",
              "  </tbody>\n",
              "</table></div>"
            ],
            "text/plain": [
              "    0\n",
              "0   2\n",
              "1   5\n",
              "2   4\n",
              "3   7\n",
              "4   8\n",
              "5   9\n",
              "6   6\n",
              "7  10"
            ]
          },
          "execution_count": 5,
          "metadata": {},
          "output_type": "execute_result"
        }
      ],
      "source": [
        "df35 = serie35.to_frame()\n",
        "df35"
      ]
    },
    {
      "cell_type": "code",
      "execution_count": 6,
      "metadata": {},
      "outputs": [
        {
          "data": {
            "text/plain": [
              "pandas.core.series.Series"
            ]
          },
          "execution_count": 6,
          "metadata": {},
          "output_type": "execute_result"
        }
      ],
      "source": [
        "type(serie35)"
      ]
    },
    {
      "cell_type": "markdown",
      "metadata": {},
      "source": [
        "# Ejercicio 36\n",
        "Convertir el contenido de un objeto series en formato csv"
      ]
    },
    {
      "cell_type": "code",
      "execution_count": 10,
      "metadata": {},
      "outputs": [
        {
          "data": {
            "text/plain": [
              "0      py\n",
              "1      ba\n",
              "2      ls\n",
              "3    lsls\n",
              "4      re\n",
              "5     dsf\n",
              "dtype: object"
            ]
          },
          "execution_count": 10,
          "metadata": {},
          "output_type": "execute_result"
        }
      ],
      "source": [
        "datos36 = [\"py\",\"ba\",\"ls\",\"lsls\",\"re\",\"dsf\"]\n",
        "\n",
        "serie36 = pd.Series(datos36)\n",
        "\n",
        "serie36"
      ]
    },
    {
      "cell_type": "code",
      "execution_count": 13,
      "metadata": {},
      "outputs": [
        {
          "data": {
            "text/plain": [
              "'0\\npy\\nba\\nls\\nlsls\\nre\\ndsf\\n'"
            ]
          },
          "execution_count": 13,
          "metadata": {},
          "output_type": "execute_result"
        }
      ],
      "source": [
        "serie36.to_csv(index=False)"
      ]
    },
    {
      "cell_type": "markdown",
      "metadata": {},
      "source": [
        "# Ejercicio 37\n",
        "Aplicar una función sobre los valores de un objeto series "
      ]
    },
    {
      "cell_type": "code",
      "execution_count": 15,
      "metadata": {},
      "outputs": [
        {
          "data": {
            "text/plain": [
              "la    2\n",
              "lo    1\n",
              "lu    5\n",
              "dtype: int64"
            ]
          },
          "execution_count": 15,
          "metadata": {},
          "output_type": "execute_result"
        }
      ],
      "source": [
        "serie37 = pd.Series([2,1,5], index=[\"la\",\"lo\",\"lu\"])\n",
        "serie37"
      ]
    },
    {
      "cell_type": "code",
      "execution_count": 17,
      "metadata": {},
      "outputs": [
        {
          "data": {
            "text/plain": [
              "la     4\n",
              "lo     1\n",
              "lu    25\n",
              "dtype: int64"
            ]
          },
          "execution_count": 17,
          "metadata": {},
          "output_type": "execute_result"
        }
      ],
      "source": [
        "def cuadrado(x):\n",
        "    return x * x\n",
        "\n",
        "serie37.apply(cuadrado)"
      ]
    },
    {
      "cell_type": "markdown",
      "metadata": {},
      "source": [
        "# Ejercicio 38\n",
        "Encontrar los elementos que estan dentro de un rango con between"
      ]
    },
    {
      "cell_type": "code",
      "execution_count": 19,
      "metadata": {},
      "outputs": [
        {
          "data": {
            "text/plain": [
              "0      0\n",
              "1      4\n",
              "2      5\n",
              "3      7\n",
              "4     58\n",
              "5     36\n",
              "6      1\n",
              "7      4\n",
              "8     24\n",
              "9      7\n",
              "10    38\n",
              "dtype: int64"
            ]
          },
          "execution_count": 19,
          "metadata": {},
          "output_type": "execute_result"
        }
      ],
      "source": [
        "datos38 = [0,4,5,7,58,36,1,4,24,7,38]\n",
        "\n",
        "serie38 = pd.Series(datos38)\n",
        "serie38"
      ]
    },
    {
      "cell_type": "code",
      "execution_count": 20,
      "metadata": {},
      "outputs": [
        {
          "data": {
            "text/plain": [
              "0     False\n",
              "1      True\n",
              "2      True\n",
              "3      True\n",
              "4     False\n",
              "5     False\n",
              "6     False\n",
              "7      True\n",
              "8     False\n",
              "9      True\n",
              "10    False\n",
              "dtype: bool"
            ]
          },
          "execution_count": 20,
          "metadata": {},
          "output_type": "execute_result"
        }
      ],
      "source": [
        "serie38.between(2,20)"
      ]
    },
    {
      "cell_type": "markdown",
      "metadata": {},
      "source": []
    },
    {
      "cell_type": "markdown",
      "metadata": {},
      "source": [
        "# Ejercicio 39\n",
        "Calcular producto punto entre dos series "
      ]
    },
    {
      "cell_type": "code",
      "execution_count": 23,
      "metadata": {},
      "outputs": [],
      "source": [
        "serie38a = pd.Series([2,3,4,5])\n",
        "serie38b = pd.Series([7,8,9,10])"
      ]
    },
    {
      "cell_type": "code",
      "execution_count": 24,
      "metadata": {},
      "outputs": [
        {
          "data": {
            "text/plain": [
              "124"
            ]
          },
          "execution_count": 24,
          "metadata": {},
          "output_type": "execute_result"
        }
      ],
      "source": [
        "serie38a.dot(serie38b)"
      ]
    },
    {
      "cell_type": "markdown",
      "metadata": {},
      "source": [
        "# Ejercicio 40\n",
        "Remover los elementos duplicados de un objeto series con drop_duplicates "
      ]
    },
    {
      "cell_type": "code",
      "execution_count": 2,
      "metadata": {},
      "outputs": [],
      "source": [
        "datos40 = [\"py\",\"ba\",\"py\",\"ls\",\"lsls\",\"re\",\"lsls\",\"dsf\"]"
      ]
    },
    {
      "cell_type": "code",
      "execution_count": 3,
      "metadata": {},
      "outputs": [
        {
          "data": {
            "text/plain": [
              "0      py\n",
              "1      ba\n",
              "2      py\n",
              "3      ls\n",
              "4    lsls\n",
              "5      re\n",
              "6    lsls\n",
              "7     dsf\n",
              "Name: palabras, dtype: object"
            ]
          },
          "execution_count": 3,
          "metadata": {},
          "output_type": "execute_result"
        }
      ],
      "source": [
        "serie40 = pd.Series(datos40, name=\"palabras\")\n",
        "serie40"
      ]
    },
    {
      "cell_type": "code",
      "execution_count": 4,
      "metadata": {},
      "outputs": [
        {
          "data": {
            "text/plain": [
              "0      py\n",
              "1      ba\n",
              "3      ls\n",
              "4    lsls\n",
              "5      re\n",
              "7     dsf\n",
              "Name: palabras, dtype: object"
            ]
          },
          "execution_count": 4,
          "metadata": {},
          "output_type": "execute_result"
        }
      ],
      "source": [
        "serie40.drop_duplicates()"
      ]
    },
    {
      "cell_type": "markdown",
      "metadata": {},
      "source": [
        "# Ejercicico 41\n",
        "Verificar con equal si dos series son iguales "
      ]
    },
    {
      "cell_type": "code",
      "execution_count": 6,
      "metadata": {},
      "outputs": [],
      "source": [
        "datos41a = [1,2,3,4,5]\n",
        "datos41b = [1,2,3,4,5]\n",
        "\n",
        "serie41a = pd.Series(datos41a)\n",
        "serie41b = pd.Series(datos41b)"
      ]
    },
    {
      "cell_type": "code",
      "execution_count": 7,
      "metadata": {},
      "outputs": [
        {
          "data": {
            "text/plain": [
              "True"
            ]
          },
          "execution_count": 7,
          "metadata": {},
          "output_type": "execute_result"
        }
      ],
      "source": [
        "serie41a.equals(serie41b)"
      ]
    },
    {
      "cell_type": "markdown",
      "metadata": {},
      "source": []
    },
    {
      "cell_type": "markdown",
      "metadata": {},
      "source": [
        "# Ejercicio 45\n",
        "Crear un objeto de la clase dataframe"
      ]
    },
    {
      "cell_type": "code",
      "execution_count": 2,
      "metadata": {},
      "outputs": [],
      "source": [
        "datos45 = {\"x\": [1,2,34,5], \"y\":[1,2,3,45]}"
      ]
    },
    {
      "cell_type": "code",
      "execution_count": 4,
      "metadata": {},
      "outputs": [
        {
          "data": {
            "text/html": [
              "<div><div id=f0645107-a84c-48ec-8ea6-ad18d04a5719 style=\"display:none; background-color:#9D6CFF; color:white; width:200px; height:30px; padding-left:5px; border-radius:4px; flex-direction:row; justify-content:space-around; align-items:center;\" onmouseover=\"this.style.backgroundColor='#BA9BF8'\" onmouseout=\"this.style.backgroundColor='#9D6CFF'\" onclick=\"window.commands?.execute('create-mitosheet-from-dataframe-output');\">See Full Dataframe in Mito</div> <script> if (window.commands.hasCommand('create-mitosheet-from-dataframe-output')) document.getElementById('f0645107-a84c-48ec-8ea6-ad18d04a5719').style.display = 'flex' </script> <table border=\"1\" class=\"dataframe\">\n",
              "  <thead>\n",
              "    <tr style=\"text-align: right;\">\n",
              "      <th></th>\n",
              "      <th>x</th>\n",
              "      <th>y</th>\n",
              "    </tr>\n",
              "  </thead>\n",
              "  <tbody>\n",
              "    <tr>\n",
              "      <th>0</th>\n",
              "      <td>1</td>\n",
              "      <td>1</td>\n",
              "    </tr>\n",
              "    <tr>\n",
              "      <th>1</th>\n",
              "      <td>2</td>\n",
              "      <td>2</td>\n",
              "    </tr>\n",
              "    <tr>\n",
              "      <th>2</th>\n",
              "      <td>34</td>\n",
              "      <td>3</td>\n",
              "    </tr>\n",
              "    <tr>\n",
              "      <th>3</th>\n",
              "      <td>5</td>\n",
              "      <td>45</td>\n",
              "    </tr>\n",
              "  </tbody>\n",
              "</table></div>"
            ],
            "text/plain": [
              "    x   y\n",
              "0   1   1\n",
              "1   2   2\n",
              "2  34   3\n",
              "3   5  45"
            ]
          },
          "execution_count": 4,
          "metadata": {},
          "output_type": "execute_result"
        }
      ],
      "source": [
        "df45 = pd.DataFrame(datos45)\n",
        "df45"
      ]
    },
    {
      "cell_type": "markdown",
      "metadata": {},
      "source": [
        "# Ejercicio 50\n",
        "Obtener las colunas de un determinado tipo de dato con select_dtypes "
      ]
    },
    {
      "cell_type": "code",
      "execution_count": 2,
      "metadata": {},
      "outputs": [],
      "source": [
        "datos50 = {\"real\":[3.1416], \"entero\":[0],\"fecha\":[pd.Timestamp(\"20170121\")],\"cadena\":[\"pthon\"]}"
      ]
    },
    {
      "cell_type": "code",
      "execution_count": 3,
      "metadata": {},
      "outputs": [
        {
          "data": {
            "text/html": [
              "<div><div id=06adc3a9-c6d4-49b4-8cee-4ce956c1d298 style=\"display:none; background-color:#9D6CFF; color:white; width:200px; height:30px; padding-left:5px; border-radius:4px; flex-direction:row; justify-content:space-around; align-items:center;\" onmouseover=\"this.style.backgroundColor='#BA9BF8'\" onmouseout=\"this.style.backgroundColor='#9D6CFF'\" onclick=\"window.commands?.execute('create-mitosheet-from-dataframe-output');\">See Full Dataframe in Mito</div> <script> if (window.commands.hasCommand('create-mitosheet-from-dataframe-output')) document.getElementById('06adc3a9-c6d4-49b4-8cee-4ce956c1d298').style.display = 'flex' </script> <table border=\"1\" class=\"dataframe\">\n",
              "  <thead>\n",
              "    <tr style=\"text-align: right;\">\n",
              "      <th></th>\n",
              "      <th>real</th>\n",
              "      <th>entero</th>\n",
              "      <th>fecha</th>\n",
              "      <th>cadena</th>\n",
              "    </tr>\n",
              "  </thead>\n",
              "  <tbody>\n",
              "    <tr>\n",
              "      <th>0</th>\n",
              "      <td>3.1416</td>\n",
              "      <td>0</td>\n",
              "      <td>2017-01-21</td>\n",
              "      <td>pthon</td>\n",
              "    </tr>\n",
              "  </tbody>\n",
              "</table></div>"
            ],
            "text/plain": [
              "     real  entero      fecha cadena\n",
              "0  3.1416       0 2017-01-21  pthon"
            ]
          },
          "execution_count": 3,
          "metadata": {},
          "output_type": "execute_result"
        }
      ],
      "source": [
        "df50 = pd.DataFrame(datos50)\n",
        "df50"
      ]
    },
    {
      "cell_type": "code",
      "execution_count": 5,
      "metadata": {},
      "outputs": [
        {
          "data": {
            "text/html": [
              "<div><div id=2920c0c6-8558-47c9-9b87-b912d50bc804 style=\"display:none; background-color:#9D6CFF; color:white; width:200px; height:30px; padding-left:5px; border-radius:4px; flex-direction:row; justify-content:space-around; align-items:center;\" onmouseover=\"this.style.backgroundColor='#BA9BF8'\" onmouseout=\"this.style.backgroundColor='#9D6CFF'\" onclick=\"window.commands?.execute('create-mitosheet-from-dataframe-output');\">See Full Dataframe in Mito</div> <script> if (window.commands.hasCommand('create-mitosheet-from-dataframe-output')) document.getElementById('2920c0c6-8558-47c9-9b87-b912d50bc804').style.display = 'flex' </script> <table border=\"1\" class=\"dataframe\">\n",
              "  <thead>\n",
              "    <tr style=\"text-align: right;\">\n",
              "      <th></th>\n",
              "      <th>entero</th>\n",
              "    </tr>\n",
              "  </thead>\n",
              "  <tbody>\n",
              "    <tr>\n",
              "      <th>0</th>\n",
              "      <td>0</td>\n",
              "    </tr>\n",
              "  </tbody>\n",
              "</table></div>"
            ],
            "text/plain": [
              "   entero\n",
              "0       0"
            ]
          },
          "execution_count": 5,
          "metadata": {},
          "output_type": "execute_result"
        }
      ],
      "source": [
        "df50.select_dtypes(include=\"int64\")"
      ]
    },
    {
      "cell_type": "code",
      "execution_count": 6,
      "metadata": {},
      "outputs": [
        {
          "data": {
            "text/html": [
              "<div><div id=b63b0d40-9ad5-43bd-b94b-42c0033f3343 style=\"display:none; background-color:#9D6CFF; color:white; width:200px; height:30px; padding-left:5px; border-radius:4px; flex-direction:row; justify-content:space-around; align-items:center;\" onmouseover=\"this.style.backgroundColor='#BA9BF8'\" onmouseout=\"this.style.backgroundColor='#9D6CFF'\" onclick=\"window.commands?.execute('create-mitosheet-from-dataframe-output');\">See Full Dataframe in Mito</div> <script> if (window.commands.hasCommand('create-mitosheet-from-dataframe-output')) document.getElementById('b63b0d40-9ad5-43bd-b94b-42c0033f3343').style.display = 'flex' </script> <table border=\"1\" class=\"dataframe\">\n",
              "  <thead>\n",
              "    <tr style=\"text-align: right;\">\n",
              "      <th></th>\n",
              "      <th>real</th>\n",
              "      <th>entero</th>\n",
              "    </tr>\n",
              "  </thead>\n",
              "  <tbody>\n",
              "    <tr>\n",
              "      <th>0</th>\n",
              "      <td>3.1416</td>\n",
              "      <td>0</td>\n",
              "    </tr>\n",
              "  </tbody>\n",
              "</table></div>"
            ],
            "text/plain": [
              "     real  entero\n",
              "0  3.1416       0"
            ]
          },
          "execution_count": 6,
          "metadata": {},
          "output_type": "execute_result"
        }
      ],
      "source": [
        "df50.select_dtypes(include=[\"int64\",\"float64\"])"
      ]
    },
    {
      "cell_type": "markdown",
      "metadata": {},
      "source": [
        "# Ejercicio 51 \n",
        "Obtener las primeras N filas de un objeto dataframe"
      ]
    },
    {
      "cell_type": "code",
      "execution_count": 6,
      "metadata": {},
      "outputs": [],
      "source": [
        "nombre = [\"Luis\",\"Angel\",\"Jesus\",\"Karen\",\"Carlos\"]\n",
        "puntaje = [8,9,10,4,5]\n",
        "intentos = [1,2,4,5,2]\n",
        "califico = [\"Sí\",\"Sí\",\"Sí\",\"No\",\"No\"]\n",
        "indices = [\"a\", \"b\", \"c\", \"d\",\"e\"]"
      ]
    },
    {
      "cell_type": "code",
      "execution_count": 7,
      "metadata": {},
      "outputs": [],
      "source": [
        "jugadores = {\"nombre\":nombre, \"puntaje\":puntaje, \"intentos\": intentos, \"califico\":califico, \"indices\":indices}"
      ]
    },
    {
      "cell_type": "code",
      "execution_count": 8,
      "metadata": {},
      "outputs": [
        {
          "data": {
            "text/html": [
              "<div><div id=b597ad58-b35f-4d77-ba21-a981beccbaf2 style=\"display:none; background-color:#9D6CFF; color:white; width:200px; height:30px; padding-left:5px; border-radius:4px; flex-direction:row; justify-content:space-around; align-items:center;\" onmouseover=\"this.style.backgroundColor='#BA9BF8'\" onmouseout=\"this.style.backgroundColor='#9D6CFF'\" onclick=\"window.commands?.execute('create-mitosheet-from-dataframe-output');\">See Full Dataframe in Mito</div> <script> if (window.commands.hasCommand('create-mitosheet-from-dataframe-output')) document.getElementById('b597ad58-b35f-4d77-ba21-a981beccbaf2').style.display = 'flex' </script> <table border=\"1\" class=\"dataframe\">\n",
              "  <thead>\n",
              "    <tr style=\"text-align: right;\">\n",
              "      <th></th>\n",
              "      <th>nombre</th>\n",
              "      <th>puntaje</th>\n",
              "      <th>intentos</th>\n",
              "      <th>califico</th>\n",
              "      <th>indices</th>\n",
              "    </tr>\n",
              "  </thead>\n",
              "  <tbody>\n",
              "    <tr>\n",
              "      <th>a</th>\n",
              "      <td>Luis</td>\n",
              "      <td>8</td>\n",
              "      <td>1</td>\n",
              "      <td>Sí</td>\n",
              "      <td>a</td>\n",
              "    </tr>\n",
              "    <tr>\n",
              "      <th>b</th>\n",
              "      <td>Angel</td>\n",
              "      <td>9</td>\n",
              "      <td>2</td>\n",
              "      <td>Sí</td>\n",
              "      <td>b</td>\n",
              "    </tr>\n",
              "    <tr>\n",
              "      <th>c</th>\n",
              "      <td>Jesus</td>\n",
              "      <td>10</td>\n",
              "      <td>4</td>\n",
              "      <td>Sí</td>\n",
              "      <td>c</td>\n",
              "    </tr>\n",
              "    <tr>\n",
              "      <th>d</th>\n",
              "      <td>Karen</td>\n",
              "      <td>4</td>\n",
              "      <td>5</td>\n",
              "      <td>No</td>\n",
              "      <td>d</td>\n",
              "    </tr>\n",
              "    <tr>\n",
              "      <th>e</th>\n",
              "      <td>Carlos</td>\n",
              "      <td>5</td>\n",
              "      <td>2</td>\n",
              "      <td>No</td>\n",
              "      <td>e</td>\n",
              "    </tr>\n",
              "  </tbody>\n",
              "</table></div>"
            ],
            "text/plain": [
              "   nombre  puntaje  intentos califico indices\n",
              "a    Luis        8         1       Sí       a\n",
              "b   Angel        9         2       Sí       b\n",
              "c   Jesus       10         4       Sí       c\n",
              "d   Karen        4         5       No       d\n",
              "e  Carlos        5         2       No       e"
            ]
          },
          "execution_count": 8,
          "metadata": {},
          "output_type": "execute_result"
        }
      ],
      "source": [
        "dt51 = pd.DataFrame(data=jugadores, index=indices)\n",
        "dt51"
      ]
    },
    {
      "cell_type": "code",
      "execution_count": 10,
      "metadata": {},
      "outputs": [
        {
          "data": {
            "text/html": [
              "<div><div id=5b4e158b-ddf7-46e2-8084-6912e22a574d style=\"display:none; background-color:#9D6CFF; color:white; width:200px; height:30px; padding-left:5px; border-radius:4px; flex-direction:row; justify-content:space-around; align-items:center;\" onmouseover=\"this.style.backgroundColor='#BA9BF8'\" onmouseout=\"this.style.backgroundColor='#9D6CFF'\" onclick=\"window.commands?.execute('create-mitosheet-from-dataframe-output');\">See Full Dataframe in Mito</div> <script> if (window.commands.hasCommand('create-mitosheet-from-dataframe-output')) document.getElementById('5b4e158b-ddf7-46e2-8084-6912e22a574d').style.display = 'flex' </script> <table border=\"1\" class=\"dataframe\">\n",
              "  <thead>\n",
              "    <tr style=\"text-align: right;\">\n",
              "      <th></th>\n",
              "      <th>nombre</th>\n",
              "      <th>puntaje</th>\n",
              "      <th>intentos</th>\n",
              "      <th>califico</th>\n",
              "      <th>indices</th>\n",
              "    </tr>\n",
              "  </thead>\n",
              "  <tbody>\n",
              "    <tr>\n",
              "      <th>a</th>\n",
              "      <td>Luis</td>\n",
              "      <td>8</td>\n",
              "      <td>1</td>\n",
              "      <td>Sí</td>\n",
              "      <td>a</td>\n",
              "    </tr>\n",
              "    <tr>\n",
              "      <th>b</th>\n",
              "      <td>Angel</td>\n",
              "      <td>9</td>\n",
              "      <td>2</td>\n",
              "      <td>Sí</td>\n",
              "      <td>b</td>\n",
              "    </tr>\n",
              "  </tbody>\n",
              "</table></div>"
            ],
            "text/plain": [
              "  nombre  puntaje  intentos califico indices\n",
              "a   Luis        8         1       Sí       a\n",
              "b  Angel        9         2       Sí       b"
            ]
          },
          "execution_count": 10,
          "metadata": {},
          "output_type": "execute_result"
        }
      ],
      "source": [
        "dt51.iloc[:2]"
      ]
    },
    {
      "cell_type": "markdown",
      "metadata": {},
      "source": [
        "# Ejercicio 53\n",
        "Obtener la representación de numpy en un objeto dataframe"
      ]
    },
    {
      "cell_type": "code",
      "execution_count": 2,
      "metadata": {},
      "outputs": [],
      "source": [
        "datos53 = {\"X\":[1,2,3],\"Y\":[4,5,6],\"Z\":[7,8,9]}"
      ]
    },
    {
      "cell_type": "code",
      "execution_count": 3,
      "metadata": {},
      "outputs": [
        {
          "data": {
            "text/html": [
              "<div><div id=2016b5d9-022a-4a42-a850-22c7b8825bd7 style=\"display:none; background-color:#9D6CFF; color:white; width:200px; height:30px; padding-left:5px; border-radius:4px; flex-direction:row; justify-content:space-around; align-items:center;\" onmouseover=\"this.style.backgroundColor='#BA9BF8'\" onmouseout=\"this.style.backgroundColor='#9D6CFF'\" onclick=\"window.commands?.execute('create-mitosheet-from-dataframe-output');\">See Full Dataframe in Mito</div> <script> if (window.commands.hasCommand('create-mitosheet-from-dataframe-output')) document.getElementById('2016b5d9-022a-4a42-a850-22c7b8825bd7').style.display = 'flex' </script> <table border=\"1\" class=\"dataframe\">\n",
              "  <thead>\n",
              "    <tr style=\"text-align: right;\">\n",
              "      <th></th>\n",
              "      <th>X</th>\n",
              "      <th>Y</th>\n",
              "      <th>Z</th>\n",
              "    </tr>\n",
              "  </thead>\n",
              "  <tbody>\n",
              "    <tr>\n",
              "      <th>0</th>\n",
              "      <td>1</td>\n",
              "      <td>4</td>\n",
              "      <td>7</td>\n",
              "    </tr>\n",
              "    <tr>\n",
              "      <th>1</th>\n",
              "      <td>2</td>\n",
              "      <td>5</td>\n",
              "      <td>8</td>\n",
              "    </tr>\n",
              "    <tr>\n",
              "      <th>2</th>\n",
              "      <td>3</td>\n",
              "      <td>6</td>\n",
              "      <td>9</td>\n",
              "    </tr>\n",
              "  </tbody>\n",
              "</table></div>"
            ],
            "text/plain": [
              "   X  Y  Z\n",
              "0  1  4  7\n",
              "1  2  5  8\n",
              "2  3  6  9"
            ]
          },
          "execution_count": 3,
          "metadata": {},
          "output_type": "execute_result"
        }
      ],
      "source": [
        "df53 = pd.DataFrame(datos53)\n",
        "df53"
      ]
    },
    {
      "cell_type": "code",
      "execution_count": 4,
      "metadata": {},
      "outputs": [
        {
          "data": {
            "text/plain": [
              "array([[1, 4, 7],\n",
              "       [2, 5, 8],\n",
              "       [3, 6, 9]])"
            ]
          },
          "execution_count": 4,
          "metadata": {},
          "output_type": "execute_result"
        }
      ],
      "source": [
        "df53.to_numpy()"
      ]
    },
    {
      "cell_type": "markdown",
      "metadata": {},
      "source": [
        "# Ejercicio 54\n",
        "Selecionar columnas de un dataframe usando notación slicing"
      ]
    },
    {
      "cell_type": "code",
      "execution_count": 8,
      "metadata": {},
      "outputs": [],
      "source": [
        "nombre = [\"Luis\",\"Angel\",\"Jesus\",\"Karen\",\"Carlos\"]\n",
        "puntaje = [8,9,10,4,5]\n",
        "intentos = [1,2,4,5,2]\n",
        "califico = [\"Sí\",\"Sí\",\"Sí\",\"No\",\"No\"]\n",
        "indices = [\"a\", \"b\", \"c\", \"d\",\"e\"]\n",
        "jugadores = {\"nombre\":nombre, \"puntaje\":puntaje, \"intentos\": intentos, \"califico\":califico, \"indices\":indices}"
      ]
    },
    {
      "cell_type": "code",
      "execution_count": 9,
      "metadata": {},
      "outputs": [
        {
          "data": {
            "text/html": [
              "<div><div id=a594ecc2-bac4-42f5-9203-990610ab8819 style=\"display:none; background-color:#9D6CFF; color:white; width:200px; height:30px; padding-left:5px; border-radius:4px; flex-direction:row; justify-content:space-around; align-items:center;\" onmouseover=\"this.style.backgroundColor='#BA9BF8'\" onmouseout=\"this.style.backgroundColor='#9D6CFF'\" onclick=\"window.commands?.execute('create-mitosheet-from-dataframe-output');\">See Full Dataframe in Mito</div> <script> if (window.commands.hasCommand('create-mitosheet-from-dataframe-output')) document.getElementById('a594ecc2-bac4-42f5-9203-990610ab8819').style.display = 'flex' </script> <table border=\"1\" class=\"dataframe\">\n",
              "  <thead>\n",
              "    <tr style=\"text-align: right;\">\n",
              "      <th></th>\n",
              "      <th>nombre</th>\n",
              "      <th>puntaje</th>\n",
              "      <th>intentos</th>\n",
              "      <th>califico</th>\n",
              "      <th>indices</th>\n",
              "    </tr>\n",
              "  </thead>\n",
              "  <tbody>\n",
              "    <tr>\n",
              "      <th>a</th>\n",
              "      <td>Luis</td>\n",
              "      <td>8</td>\n",
              "      <td>1</td>\n",
              "      <td>Sí</td>\n",
              "      <td>a</td>\n",
              "    </tr>\n",
              "    <tr>\n",
              "      <th>b</th>\n",
              "      <td>Angel</td>\n",
              "      <td>9</td>\n",
              "      <td>2</td>\n",
              "      <td>Sí</td>\n",
              "      <td>b</td>\n",
              "    </tr>\n",
              "    <tr>\n",
              "      <th>c</th>\n",
              "      <td>Jesus</td>\n",
              "      <td>10</td>\n",
              "      <td>4</td>\n",
              "      <td>Sí</td>\n",
              "      <td>c</td>\n",
              "    </tr>\n",
              "    <tr>\n",
              "      <th>d</th>\n",
              "      <td>Karen</td>\n",
              "      <td>4</td>\n",
              "      <td>5</td>\n",
              "      <td>No</td>\n",
              "      <td>d</td>\n",
              "    </tr>\n",
              "    <tr>\n",
              "      <th>e</th>\n",
              "      <td>Carlos</td>\n",
              "      <td>5</td>\n",
              "      <td>2</td>\n",
              "      <td>No</td>\n",
              "      <td>e</td>\n",
              "    </tr>\n",
              "  </tbody>\n",
              "</table></div>"
            ],
            "text/plain": [
              "   nombre  puntaje  intentos califico indices\n",
              "a    Luis        8         1       Sí       a\n",
              "b   Angel        9         2       Sí       b\n",
              "c   Jesus       10         4       Sí       c\n",
              "d   Karen        4         5       No       d\n",
              "e  Carlos        5         2       No       e"
            ]
          },
          "execution_count": 9,
          "metadata": {},
          "output_type": "execute_result"
        }
      ],
      "source": [
        "dt54 = pd.DataFrame(data=jugadores, index=indices)\n",
        "dt54"
      ]
    },
    {
      "cell_type": "code",
      "execution_count": 10,
      "metadata": {},
      "outputs": [
        {
          "data": {
            "text/html": [
              "<div><div id=ea533b75-8fc7-40c7-bb3b-24865d4722e2 style=\"display:none; background-color:#9D6CFF; color:white; width:200px; height:30px; padding-left:5px; border-radius:4px; flex-direction:row; justify-content:space-around; align-items:center;\" onmouseover=\"this.style.backgroundColor='#BA9BF8'\" onmouseout=\"this.style.backgroundColor='#9D6CFF'\" onclick=\"window.commands?.execute('create-mitosheet-from-dataframe-output');\">See Full Dataframe in Mito</div> <script> if (window.commands.hasCommand('create-mitosheet-from-dataframe-output')) document.getElementById('ea533b75-8fc7-40c7-bb3b-24865d4722e2').style.display = 'flex' </script> <table border=\"1\" class=\"dataframe\">\n",
              "  <thead>\n",
              "    <tr style=\"text-align: right;\">\n",
              "      <th></th>\n",
              "      <th>nombre</th>\n",
              "      <th>califico</th>\n",
              "    </tr>\n",
              "  </thead>\n",
              "  <tbody>\n",
              "    <tr>\n",
              "      <th>a</th>\n",
              "      <td>Luis</td>\n",
              "      <td>Sí</td>\n",
              "    </tr>\n",
              "    <tr>\n",
              "      <th>b</th>\n",
              "      <td>Angel</td>\n",
              "      <td>Sí</td>\n",
              "    </tr>\n",
              "    <tr>\n",
              "      <th>c</th>\n",
              "      <td>Jesus</td>\n",
              "      <td>Sí</td>\n",
              "    </tr>\n",
              "    <tr>\n",
              "      <th>d</th>\n",
              "      <td>Karen</td>\n",
              "      <td>No</td>\n",
              "    </tr>\n",
              "    <tr>\n",
              "      <th>e</th>\n",
              "      <td>Carlos</td>\n",
              "      <td>No</td>\n",
              "    </tr>\n",
              "  </tbody>\n",
              "</table></div>"
            ],
            "text/plain": [
              "   nombre califico\n",
              "a    Luis       Sí\n",
              "b   Angel       Sí\n",
              "c   Jesus       Sí\n",
              "d   Karen       No\n",
              "e  Carlos       No"
            ]
          },
          "execution_count": 10,
          "metadata": {},
          "output_type": "execute_result"
        }
      ],
      "source": [
        "dt54[[\"nombre\",\"califico\"]]"
      ]
    }
  ],
  "metadata": {
    "datalore": {
      "base_environment": "default",
      "computation_mode": "JUPYTER",
      "package_manager": "pip",
      "packages": [
        {
          "name": "Ejercicios_Pandas",
          "source": "GIT",
          "url": "https://github.com/TherealVL/Ejercicios_Pandas@main",
          "version": "main"
        }
      ],
      "version": 1
    },
    "interpreter": {
      "hash": "d2152fd7f0bbc62aa1baff8c990435d1e2c7175d001561303988032604c11a48"
    },
    "kernelspec": {
      "display_name": "Python 3.10.2 64-bit",
      "language": "python",
      "name": "python3"
    },
    "language_info": {
      "codemirror_mode": {
        "name": "ipython",
        "version": 3
      },
      "file_extension": ".py",
      "mimetype": "text/x-python",
      "name": "python",
      "nbconvert_exporter": "python",
      "pygments_lexer": "ipython3",
      "version": "3.10.4"
    }
  },
  "nbformat": 4,
  "nbformat_minor": 4
}
